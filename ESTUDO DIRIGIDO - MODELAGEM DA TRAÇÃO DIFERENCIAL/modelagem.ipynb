{
 "cells": [
  {
   "cell_type": "markdown",
   "metadata": {},
   "source": [
    "## **Definições iniciais**"
   ]
  },
  {
   "cell_type": "code",
   "execution_count": 34,
   "metadata": {},
   "outputs": [],
   "source": [
    "import numpy as np\n",
    "import matplotlib.pyplot as plt"
   ]
  },
  {
   "cell_type": "code",
   "execution_count": 35,
   "metadata": {},
   "outputs": [],
   "source": [
    "dt = 0.05\n",
    "tf = 50\n",
    "t = np.arange(0, tf, dt)\n",
    "\n",
    "J = 0.01 #kgm²\n",
    "b = 0.019 #Nms\n",
    "Ke = 0.01 #V/rad/s\n",
    "Kt = 0.01 #Nm/Amp\n",
    "R = 1 #Ohm\n",
    "L = 0.5 #H\n",
    "\n",
    "v = 5 #V"
   ]
  },
  {
   "cell_type": "markdown",
   "metadata": {},
   "source": [
    "## **Questão 1**"
   ]
  },
  {
   "cell_type": "markdown",
   "metadata": {},
   "source": [
    "### [ a ]"
   ]
  },
  {
   "cell_type": "code",
   "execution_count": 14,
   "metadata": {},
   "outputs": [
    {
     "data": {
      "image/png": "[encoded data removed]",
      "text/plain": [
       "<Figure size 432x288 with 1 Axes>"
      ]
     },
     "metadata": {
      "needs_background": "light"
     },
     "output_type": "display_data"
    }
   ],
   "source": [
    "i = np.zeros(np.size(t))\n",
    "i_p = np.zeros(np.size(t))\n",
    "theta_p = np.zeros(np.size(t))\n",
    "theta_pp = np.zeros(np.size(t))\n",
    "\n",
    "for k in range(0, np.size(t)-1):\n",
    "    theta_pp[k+1] = (1/J) * (Kt*i[k] - b*theta_p[k])\n",
    "    theta_p[k+1]  = theta_p[k] + theta_pp[k]*dt\n",
    "    i_p[k+1]      = (1/L)*(v - R*i[k] - Ke*theta_p[k])\n",
    "    i [k+1]       = i[k] + i_p[k]*dt\n",
    "\n",
    "plt.plot(t, theta_p)\n",
    "plt.grid()"
   ]
  },
  {
   "cell_type": "markdown",
   "metadata": {},
   "source": [
    "### [ b ]"
   ]
  },
  {
   "cell_type": "code",
   "execution_count": 15,
   "metadata": {},
   "outputs": [
    {
     "data": {
      "image/png": "[encoded data removed]",
      "text/plain": [
       "<Figure size 432x288 with 1 Axes>"
      ]
     },
     "metadata": {
      "needs_background": "light"
     },
     "output_type": "display_data"
    }
   ],
   "source": [
    "v_max = 12 #alteracao da tensao para a maxima para analisar a velocidade angular\n",
    "\n",
    "i = np.zeros(np.size(t))\n",
    "i_p = np.zeros(np.size(t))\n",
    "theta_p = np.zeros(np.size(t))\n",
    "theta_pp = np.zeros(np.size(t))\n",
    "\n",
    "for k in range(0, np.size(t)-1):\n",
    "    theta_pp[k+1] = (1/J) * (Kt*i[k] - b*theta_p[k])\n",
    "    theta_p[k+1]  = theta_p[k] + theta_pp[k]*dt\n",
    "    i_p[k+1]      = (1/L)*(v_max - R*i[k] - Ke*theta_p[k])\n",
    "    i [k+1]       = i[k] + i_p[k]*dt\n",
    "\n",
    "plt.plot(t, theta_p)\n",
    "plt.grid()"
   ]
  },
  {
   "cell_type": "markdown",
   "metadata": {},
   "source": [
    "### Perguntas"
   ]
  },
  {
   "cell_type": "markdown",
   "metadata": {},
   "source": [
    "#### [ i ]"
   ]
  },
  {
   "cell_type": "code",
   "execution_count": 16,
   "metadata": {},
   "outputs": [
    {
     "data": {
      "text/plain": [
       "1.9998526880657008"
      ]
     },
     "execution_count": 16,
     "metadata": {},
     "output_type": "execute_result"
    }
   ],
   "source": [
    "#valor gerado com v_max = 12\n",
    "\n",
    "theta_p[500]/np.pi # 1.94 pi (rad/s)"
   ]
  },
  {
   "cell_type": "markdown",
   "metadata": {},
   "source": [
    "Não, a velocidade máxima dele é de cerca de 2 $\\pi$ rad/s."
   ]
  },
  {
   "cell_type": "markdown",
   "metadata": {},
   "source": [
    "## **Questão 2**"
   ]
  },
  {
   "cell_type": "code",
   "execution_count": 17,
   "metadata": {},
   "outputs": [
    {
     "data": {
      "image/png": "[encoded data removed]",
      "text/plain": [
       "<Figure size 432x288 with 1 Axes>"
      ]
     },
     "metadata": {
      "needs_background": "light"
     },
     "output_type": "display_data"
    }
   ],
   "source": [
    "Kp = 1\n",
    "Ki = 1.5\n",
    "Kd = 0.3\n",
    "\n",
    "sp = 6*np.ones(np.size(t))\n",
    "u = np.zeros(np.size(t))\n",
    "\n",
    "erro = 0\n",
    "erro_old = 0\n",
    "erro_i = 0\n",
    "\n",
    "theta_p = np.zeros(np.size(t))\n",
    "theta_pp = np.zeros(np.size(t))\n",
    "i = np.zeros(np.size(t))\n",
    "i_p = np.zeros(np.size(t))\n",
    "\n",
    "for k in range(0, np.size(t)-1):\n",
    "\n",
    "    theta_pp[k+1] = (1/J) * (Kt*i[k] - b*theta_p[k])\n",
    "    theta_p[k+1]  = theta_p[k] + theta_pp[k]*dt\n",
    "    #ação de controle u[k] aplicada como a tensão V para\n",
    "    #estabilizar a velocidade no setpoint\n",
    "    i_p[k+1]      = (1/L)*(u[k] - R*i[k] - Ke*theta_p[k])\n",
    "    i [k+1]       = i[k] + i_p[k]*dt\n",
    "\n",
    "    erro = sp[k] - theta_p[k]\n",
    "    erro_d = (erro - erro_old)/dt\n",
    "    erro_i = erro_i + erro*dt\n",
    "    erro_old = erro\n",
    "\n",
    "    u[k+1] = Kp*erro + Ki*erro_i + Kd*erro_d\n",
    "    \n",
    "    \n",
    "plt.plot(t, sp, '--', label='sp (Setpoint)')\n",
    "plt.plot(t, theta_p, '-', label = '$\\dot{\\\\theta} \\,\\, (Velocidade \\,\\,  angular)$')\n",
    "plt.plot(t, u, '-', label = 'u (Controle)')\n",
    "plt.xlim([0, 6])\n",
    "plt.ylim([0, 15])\n",
    "plt.legend()\n",
    "plt.grid()"
   ]
  },
  {
   "cell_type": "markdown",
   "metadata": {},
   "source": [
    "### Perguntas"
   ]
  },
  {
   "cell_type": "markdown",
   "metadata": {},
   "source": [
    "#### [ i ]"
   ]
  },
  {
   "cell_type": "markdown",
   "metadata": {},
   "source": [
    "Não, ela demora cerca de 4 segundos para atingir o setpoint (4)."
   ]
  },
  {
   "cell_type": "markdown",
   "metadata": {},
   "source": [
    "#### [ ii ]"
   ]
  },
  {
   "cell_type": "markdown",
   "metadata": {},
   "source": [
    "Cerca de 4 segundos."
   ]
  },
  {
   "cell_type": "markdown",
   "metadata": {},
   "source": [
    "#### [ iii ]"
   ]
  },
  {
   "cell_type": "markdown",
   "metadata": {},
   "source": [
    "Acionamento com PWM variável acionando uma ponte h que direciona a tensão para o motor."
   ]
  },
  {
   "cell_type": "markdown",
   "metadata": {},
   "source": [
    "## **Questão 3**"
   ]
  },
  {
   "cell_type": "markdown",
   "metadata": {},
   "source": [
    "### [ a ]"
   ]
  },
  {
   "cell_type": "code",
   "execution_count": 3,
   "metadata": {},
   "outputs": [
    {
     "name": "stdout",
     "output_type": "stream",
     "text": [
      " Wd: 2.86 rad/s \n",
      " We: 2.86 rad/s\n"
     ]
    }
   ],
   "source": [
    "u = 0.1 #m/s\n",
    "w = 0 #rad/s\n",
    "R2 = 0.035 #m\n",
    "L2 = 0.28 #m\n",
    "\n",
    "wd = (2*u + w*L2)/(2*R2)\n",
    "we = (2*u - w*L2)/(2*R2)\n",
    "\n",
    "print(\" Wd: %.2f rad/s \\n We: %.2f rad/s\" % (wd, we))"
   ]
  },
  {
   "cell_type": "markdown",
   "metadata": {},
   "source": [
    "### [ b ]"
   ]
  },
  {
   "cell_type": "code",
   "execution_count": 6,
   "metadata": {},
   "outputs": [
    {
     "data": {
      "image/png": "[encoded data removed]",
      "text/plain": [
       "<Figure size 432x288 with 1 Axes>"
      ]
     },
     "metadata": {
      "needs_background": "light"
     },
     "output_type": "display_data"
    },
    {
     "data": {
      "image/png": "[encoded data removed]",
      "text/plain": [
       "<Figure size 432x288 with 1 Axes>"
      ]
     },
     "metadata": {
      "needs_background": "light"
     },
     "output_type": "display_data"
    }
   ],
   "source": [
    "Kp_E = 1\n",
    "Ki_E = 1.5\n",
    "Kd_E = 0.3\n",
    "\n",
    "Kp_D = 1\n",
    "Ki_D = 1.5\n",
    "Kd_D = 0.3\n",
    "\n",
    "u_E = np.zeros(np.size(t))\n",
    "u_D = np.zeros(np.size(t))\n",
    "\n",
    "we = ((2*u + w*L2)/(2*R2))*np.ones(np.size(t))\n",
    "wd = ((2*u - w*L2)/(2*R2))*np.ones(np.size(t))\n",
    "\n",
    "erro_E = 0\n",
    "erro_old_E = 0\n",
    "erro_i_E = 0\n",
    "\n",
    "erro_D = 0\n",
    "erro_old_D = 0\n",
    "erro_i_D = 0\n",
    "\n",
    "theta_p_E = np.zeros(np.size(t))\n",
    "theta_pp_E = np.zeros(np.size(t))\n",
    "i_E = np.zeros(np.size(t))\n",
    "i_p_E = np.zeros(np.size(t))\n",
    "\n",
    "theta_p_D = np.zeros(np.size(t))\n",
    "theta_pp_D = np.zeros(np.size(t))\n",
    "i_D = np.zeros(np.size(t))\n",
    "i_p_D = np.zeros(np.size(t))\n",
    "\n",
    "for k in range(0, np.size(t)-1):\n",
    "    #ESQUERDO\n",
    "\n",
    "    theta_pp_E[k+1] = (1/J) * (Kt*i_E[k] - b*theta_p_E[k])\n",
    "    theta_p_E[k+1]  = theta_p_E[k] + theta_pp_E[k]*dt\n",
    "    #ação de controle u[k] aplicada como a tensão V para\n",
    "    #estabilizar a velocidade no setpoint\n",
    "    i_p_E[k+1]      = (1/L)*(u_E[k] - R*i_E[k] - Ke*theta_p_E[k])\n",
    "    i_E[k+1]       = i_E[k] + i_p_E[k]*dt\n",
    "\n",
    "    erro_E = we[k] - theta_p_E[k]\n",
    "    erro_d_E = (erro_E - erro_old_E)/dt\n",
    "    erro_i_E = erro_i_E + erro_E*dt\n",
    "    erro_old_E = erro_E\n",
    "\n",
    "    u_E[k+1] = Kp_E*erro_E + Ki_E*erro_i_E + Kd_E*erro_d_E\n",
    "\n",
    "    #DIREITO\n",
    "\n",
    "    theta_pp_D[k+1] = (1/J) * (Kt*i_D[k] - b*theta_p_D[k])\n",
    "    theta_p_D[k+1]  = theta_p_D[k] + theta_pp_D[k]*dt\n",
    "    #ação de controle u[k] aplicada como a tensão V para\n",
    "    #estabilizar a velocidade no setpoint\n",
    "    i_p_D[k+1]      = (1/L)*(u_D[k] - R*i_D[k] - Ke*theta_p_D[k])\n",
    "    i_D[k+1]       = i_D[k] + i_p_D[k]*dt\n",
    "\n",
    "    erro_D = wd[k] - theta_p_D[k]\n",
    "    erro_d_D = (erro_D - erro_old_D)/dt\n",
    "    erro_i_D = erro_i_D + erro_D*dt\n",
    "    erro_old_D = erro_D\n",
    "\n",
    "    u_D[k+1] = Kp_D*erro_D + Ki_D*erro_i_D + Kd_D*erro_d_D\n",
    "\n",
    "plt.figure(1)\n",
    "plt.plot(t, we, '--', label='sp = $\\omega_E$ (Setpoint)')\n",
    "plt.plot(t, theta_p_E, '-', label = '$\\dot{\\\\theta_D} \\,\\, (Velocidade \\,\\, angular)$')\n",
    "plt.plot(t, u_E, '-', label = '$u_E$ (Controle)')\n",
    "plt.xlim([0, 30])\n",
    "plt.ylim([-2.5, 6])\n",
    "plt.legend()\n",
    "plt.title(\"$\\dot{\\\\theta}$ seguindo $\\omega_E$\")\n",
    "plt.grid()\n",
    "\n",
    "plt.figure(2)\n",
    "plt.plot(t, wd, '--', label='sp = $\\omega_D$ (Setpoint)')\n",
    "plt.plot(t, theta_p_D, '-', label = '$\\dot{\\\\theta_D} \\,\\, (Velocidade \\,\\, angular)$')\n",
    "plt.plot(t, u_D, '-', label = '$u_D$ (Controle)')\n",
    "plt.xlim([0, 30])\n",
    "plt.ylim([-2.5, 6])\n",
    "plt.legend()\n",
    "plt.title(\"$\\dot{\\\\theta}$ seguindo $\\omega_D$\")\n",
    "plt.grid()"
   ]
  },
  {
   "cell_type": "markdown",
   "metadata": {},
   "source": [
    "### [ c ]"
   ]
  },
  {
   "cell_type": "code",
   "execution_count": 10,
   "metadata": {},
   "outputs": [
    {
     "data": {
      "image/png": "[encoded data removed]",
      "text/plain": [
       "<Figure size 432x288 with 1 Axes>"
      ]
     },
     "metadata": {
      "needs_background": "light"
     },
     "output_type": "display_data"
    }
   ],
   "source": [
    "u = 0.1\n",
    "x = np.zeros(np.size(t))\n",
    "\n",
    "for k in range(0, np.size(t)-1):\n",
    "    x[k+1] = x[k] + u*dt\n",
    "\n",
    "plt.plot(t, x)\n",
    "plt.grid()"
   ]
  },
  {
   "cell_type": "markdown",
   "metadata": {},
   "source": [
    "O avanço da posição seria obtido pela integral da aceleração $\\dot{x}$, uma resposta linear e instantânea (por esse método)."
   ]
  },
  {
   "cell_type": "markdown",
   "metadata": {},
   "source": [
    "### [ d ]"
   ]
  },
  {
   "cell_type": "code",
   "execution_count": 42,
   "metadata": {},
   "outputs": [
    {
     "name": "stdout",
     "output_type": "stream",
     "text": [
      "A coordenada x será dependente do tempo, em t = 100s x(t) -> x(100) = 0.37\n"
     ]
    },
    {
     "data": {
      "image/png": "[encoded data removed]",
      "text/plain": [
       "<Figure size 432x288 with 1 Axes>"
      ]
     },
     "metadata": {
      "needs_background": "light"
     },
     "output_type": "display_data"
    }
   ],
   "source": [
    "#Parametros do robo\n",
    "u=0.1\n",
    "w=0.0\n",
    "R2=0.035\n",
    "L2=0.28\n",
    "\n",
    "#Parametros do motor\n",
    "Ke = Kt = 0.01\n",
    "J = 0.01\n",
    "b = 0.019\n",
    "R = 1\n",
    "L = 0.5\n",
    "\n",
    "Kp_E = 1\n",
    "Ki_E = 1.5\n",
    "Kd_E = 0.3\n",
    "\n",
    "Kp_D = 1\n",
    "Ki_D = 1.5\n",
    "Kd_D = 0.3\n",
    "\n",
    "i_E = np.zeros(np.size(t))\n",
    "i_p_E = np.zeros(np.size(t))\n",
    "theta_p_E = np.zeros(np.size(t))\n",
    "theta_pp_E = np.zeros(np.size(t))\n",
    "i_D = np.zeros(np.size(t))\n",
    "i_p_D = np.zeros(np.size(t))\n",
    "theta_p_D = np.zeros(np.size(t))\n",
    "theta_pp_D = np.zeros(np.size(t))\n",
    "\n",
    "u_E = np.zeros(np.size(t))\n",
    "u_D = np.zeros(np.size(t))\n",
    "\n",
    "erro_E = 0\n",
    "erro_old_E = 0\n",
    "erro_i_E = 0\n",
    "erro_d_E = 0\n",
    "erro_D = 0\n",
    "erro_old_D = 0\n",
    "erro_i_D = 0\n",
    "erro_d_D = 0\n",
    "\n",
    "phi_p = np.zeros(np.size(t))\n",
    "phi = np.zeros(np.size(t))\n",
    "x_p = np.zeros(np.size(t))\n",
    "x = np.zeros(np.size(t))\n",
    "\n",
    "u = 0.1\n",
    "\n",
    "we = ((2*u - w*L2)/(2*R2))*np.ones(np.size(t))\n",
    "wd = ((2*u + w*L2)/(2*R2))*np.ones(np.size(t))\n",
    "\n",
    "for k in range(0, np.size(t)-1):\n",
    "    #ESQUERDO\n",
    "\n",
    "    theta_pp_E[k+1] = (1/J) * (Kt*i_E[k] - b*theta_p_E[k])\n",
    "    theta_p_E[k+1]  = theta_p_E[k] + theta_pp_E[k]*dt\n",
    "    #ação de controle u[k] aplicada como a tensão V para\n",
    "    #estabilizar a velocidade no setpoint\n",
    "    i_p_E[k+1]      = (1/L)*(u_E[k] - R*i_E[k] - Ke*theta_p_E[k])\n",
    "    i_E[k+1]        = i_E[k] + i_p_E[k]*dt\n",
    "\n",
    "    erro_E = we[k] - theta_p_E[k]\n",
    "    erro_d_E = (erro_E - erro_old_E)/dt\n",
    "    erro_i_E = erro_i_E + erro_E*dt\n",
    "    erro_old_E = erro_E\n",
    "\n",
    "    u_E[k+1] = Kp_E*erro_E + Ki_E*erro_i_E + Kd_E*erro_d_E\n",
    "\n",
    "    #DIREITO\n",
    "\n",
    "    theta_pp_D[k+1] = (1/J) * (Kt*i_D[k] - b*theta_p_D[k])\n",
    "    theta_p_D[k+1]  = theta_p_D[k] + theta_pp_D[k]*dt\n",
    "    #ação de controle u[k] aplicada como a tensão V para\n",
    "    #estabilizar a velocidade no setpoint\n",
    "    i_p_D[k+1]      = (1/L)*(u_D[k] - R*i_D[k] - Ke*theta_p_D[k])\n",
    "    i_D[k+1]        = i_D[k] + i_p_D[k]*dt\n",
    "\n",
    "    erro_D = wd[k] - theta_p_D[k]\n",
    "    erro_d_D = (erro_D - erro_old_D)/dt\n",
    "    erro_i_D = erro_i_D + erro_D*dt\n",
    "    erro_old_D = erro_D\n",
    "\n",
    "    u_D[k+1] = Kp_D*erro_D + Ki_D*erro_i_D + Kd_D*erro_d_D\n",
    "\n",
    "    phi_p[k+1] = (R2/L2)*(theta_p_D[k] - theta_p_E[k])\n",
    "    x_p[k+1] = (R2/2)*(theta_p_D[k] + theta_p_E[k])*np.cos(phi[k])\n",
    "    \n",
    "    phi[k+1] = phi[k] + phi_p[k]*dt\n",
    "    x[k+1] = x[k] + x_p[k]*dt\n",
    "\n",
    "plt.plot(t, x)\n",
    "plt.grid()\n",
    "\n",
    "print(\"A coordenada x será dependente do tempo, em t = 100s x(t) -> x(100) = %.2f\" % (x[100]))"
   ]
  },
  {
   "cell_type": "markdown",
   "metadata": {},
   "source": [
    "### Pergunta"
   ]
  },
  {
   "cell_type": "markdown",
   "metadata": {},
   "source": [
    "O método de realimentação comum define os valores considerando que o robô conseguirá assumir as velocidades estipuladas instantaneamente, fato que não acontece. \n",
    "\n",
    "Quando utilizamos a realimentação com odometria os valores demoram mais para serem fisicamente definidos no robô e, por consequência, o movimento demora um pouco mais para acontecer seguindo os parâmetros de velocidade que são desejados."
   ]
  },
  {
   "cell_type": "markdown",
   "metadata": {},
   "source": [
    "## **Questão 4**"
   ]
  },
  {
   "cell_type": "markdown",
   "metadata": {},
   "source": [
    "### [ a ]\n",
    "É possível atingir u = 0.1 m/s e $\\omega$ = 0.1 rad/s?"
   ]
  },
  {
   "cell_type": "code",
   "execution_count": 84,
   "metadata": {},
   "outputs": [
    {
     "data": {
      "text/plain": [
       "<matplotlib.legend.Legend at 0x241a9374a30>"
      ]
     },
     "execution_count": 84,
     "metadata": {},
     "output_type": "execute_result"
    },
    {
     "data": {
      "image/png": "[encoded data removed]",
      "text/plain": [
       "<Figure size 432x288 with 1 Axes>"
      ]
     },
     "metadata": {
      "needs_background": "light"
     },
     "output_type": "display_data"
    },
    {
     "data": {
      "image/png": "[encoded data removed]",
      "text/plain": [
       "<Figure size 432x288 with 1 Axes>"
      ]
     },
     "metadata": {
      "needs_background": "light"
     },
     "output_type": "display_data"
    },
    {
     "data": {
      "image/png": "[encoded data removed]",
      "text/plain": [
       "<Figure size 432x288 with 1 Axes>"
      ]
     },
     "metadata": {
      "needs_background": "light"
     },
     "output_type": "display_data"
    }
   ],
   "source": [
    "#Parametros do robo\n",
    "u=0.1\n",
    "w=0.0\n",
    "R2=0.035\n",
    "L2=0.28\n",
    "\n",
    "#Parametros do motor\n",
    "Ke = Kt = 0.01\n",
    "J = 0.01\n",
    "b = 0.019\n",
    "R = 1\n",
    "L = 0.5\n",
    "\n",
    "Kp_E = 1\n",
    "Ki_E = 1.5\n",
    "Kd_E = 0.3\n",
    "\n",
    "Kp_D = 1\n",
    "Ki_D = 1.5\n",
    "Kd_D = 0.3\n",
    "\n",
    "i_E = np.zeros(np.size(t))\n",
    "i_p_E = np.zeros(np.size(t))\n",
    "theta_p_E = np.zeros(np.size(t))\n",
    "theta_pp_E = np.zeros(np.size(t))\n",
    "i_D = np.zeros(np.size(t))\n",
    "i_p_D = np.zeros(np.size(t))\n",
    "theta_p_D = np.zeros(np.size(t))\n",
    "theta_pp_D = np.zeros(np.size(t))\n",
    "\n",
    "u_E = np.zeros(np.size(t))\n",
    "u_D = np.zeros(np.size(t))\n",
    "u_max = 12\n",
    "\n",
    "erro_E = 0\n",
    "erro_old_E = 0\n",
    "erro_i_E = 0\n",
    "erro_d_E = 0\n",
    "erro_D = 0\n",
    "erro_old_D = 0\n",
    "erro_i_D = 0\n",
    "erro_d_D = 0\n",
    "\n",
    "phi_p = np.zeros(np.size(t))\n",
    "phi = np.zeros(np.size(t))\n",
    "x_p = np.zeros(np.size(t))\n",
    "x = np.zeros(np.size(t))\n",
    "\n",
    "u = 0.5\n",
    "\n",
    "we = ((2*u - w*L2)/(2*R2))*np.ones(np.size(t))\n",
    "wd = ((2*u + w*L2)/(2*R2))*np.ones(np.size(t))\n",
    "\n",
    "for k in range(0, np.size(t)-1):\n",
    "    #ESQUERDO\n",
    "\n",
    "    theta_pp_E[k+1] = (1/J) * (Kt*i_E[k] - b*theta_p_E[k])\n",
    "    theta_p_E[k+1]  = theta_p_E[k] + theta_pp_E[k]*dt\n",
    "    #ação de controle u[k] aplicada como a tensão V para\n",
    "    #estabilizar a velocidade no setpoint\n",
    "    i_p_E[k+1]      = (1/L)*(u_E[k] - R*i_E[k] - Ke*theta_p_E[k])\n",
    "    i_E[k+1]        = i_E[k] + i_p_E[k]*dt\n",
    "\n",
    "    erro_E = we[k] - theta_p_E[k]\n",
    "    erro_d_E = (erro_E - erro_old_E)/dt\n",
    "    erro_i_E = erro_i_E + erro_E*dt\n",
    "    erro_old_E = erro_E\n",
    "\n",
    "    u_E[k+1] = Kp_E*erro_E + Ki_E*erro_i_E + Kd_E*erro_d_E\n",
    "    if abs(u_E[k+1])>12:\n",
    "        if u_E[k+1]>0:\n",
    "            u_E[k+1] = u_max\n",
    "        else:\n",
    "            u_E[k+1] = -u_max\n",
    "\n",
    "    #DIREITO\n",
    "\n",
    "    theta_pp_D[k+1] = (1/J) * (Kt*i_D[k] - b*theta_p_D[k])\n",
    "    theta_p_D[k+1]  = theta_p_D[k] + theta_pp_D[k]*dt\n",
    "    #ação de controle u[k] aplicada como a tensão V para\n",
    "    #estabilizar a velocidade no setpoint\n",
    "    i_p_D[k+1]      = (1/L)*(u_D[k] - R*i_D[k] - Ke*theta_p_D[k])\n",
    "    i_D[k+1]        = i_D[k] + i_p_D[k]*dt\n",
    "\n",
    "    erro_D = wd[k] - theta_p_D[k]\n",
    "    erro_d_D = (erro_D - erro_old_D)/dt\n",
    "    erro_i_D = erro_i_D + erro_D*dt\n",
    "    erro_old_D = erro_D\n",
    "\n",
    "    u_D[k+1] = Kp_D*erro_D + Ki_D*erro_i_D + Kd_D*erro_d_D\n",
    "    if abs(u_D[k+1])>12:\n",
    "        if u_D[k+1]>0:\n",
    "            u_D[k+1] = u_max\n",
    "        else:\n",
    "            u_D[k+1] = -u_max\n",
    "\n",
    "    phi_p[k+1] = (R2/L2)*(theta_p_D[k] - theta_p_E[k])\n",
    "    x_p[k+1] = (R2/2)*(theta_p_D[k] + theta_p_E[k])*np.cos(phi[k])\n",
    "    \n",
    "    phi[k+1] = phi[k] + phi_p[k]*dt\n",
    "    x[k+1] = x[k] + x_p[k]*dt\n",
    "\n",
    "plt.figure(1)\n",
    "plt.plot(t, x_p, label='$u$ (Velocidade linear)')\n",
    "plt.legend()\n",
    "plt.grid()\n",
    "plt.xlim([0, 10])\n",
    "\n",
    "plt.figure(2)\n",
    "plt.plot(t, theta_p_E, label='$\\omega_E$ (Velocidade angular)')\n",
    "plt.plot(t, theta_p_D, label='$\\omega_D$ (Velocidade angular)')\n",
    "plt.legend()\n",
    "plt.grid()\n",
    "plt.xlim([0, 10])\n",
    "\n",
    "plt.figure(3)\n",
    "plt.plot(t, u_E, label='$u_E$ (Ação de controle na esquerda)')\n",
    "plt.plot(t, u_D, label='$u_D$ (Ação de controle na direita)')\n",
    "plt.grid()\n",
    "plt.legend()\n",
    "# plt.xlim([0, 10])"
   ]
  },
  {
   "cell_type": "markdown",
   "metadata": {},
   "source": []
  }
 ],
 "metadata": {
  "kernelspec": {
   "display_name": "Python 3.10.5 64-bit",
   "language": "python",
   "name": "python3"
  },
  "language_info": {
   "codemirror_mode": {
    "name": "ipython",
    "version": 3
   },
   "file_extension": ".py",
   "mimetype": "text/x-python",
   "name": "python",
   "nbconvert_exporter": "python",
   "pygments_lexer": "ipython3",
   "version": "3.10.5"
  },
  "orig_nbformat": 4,
  "vscode": {
   "interpreter": {
    "hash": "735fd90a47749e3d8aef9bbc1d196bfbcc60e5c47746d2d32e6f03ac88616da3"
   }
  }
 },
 "nbformat": 4,
 "nbformat_minor": 2
}
